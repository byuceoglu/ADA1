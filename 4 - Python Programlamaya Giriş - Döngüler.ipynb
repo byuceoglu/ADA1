{
 "cells": [
  {
   "cell_type": "markdown",
   "metadata": {},
   "source": [
    "\n",
    "<p>Python programlamanın temellerini anlattığımız yazı dizimizin bu bölümünde belli bir kod blokunun tekrar tekrar çalıştırılması anlamına gelen <em>döngülerden</em> bahsedeceğiz. Döngüler her türlü programın temel yapı taşlarındandır.</p>\n",
    "<p>Döngüler, daha önce bahsettiğimiz karar yapısı <code>if</code> ile benzer bir yapıya sahiptir. Blok kaydırma yapısı ve mantıksal şartlara aşina değilseniz önce karar yapısını anlattığımız bölümü okumanız iyi olur.</p>\n",
    "<h1 id=\"while-döngüsü\">while döngüsü<a class=\"anchor-link\" href=\"#while-döngüsü\">¶</a></h1><p><code>while</code> döngüleri, bir mantıksal şart mantıksal \"doğru\" değerine sahip olduğu sürece tekrarlanır. Döngünün sona ermesi için şartın eninde sonunda yanlış hale gelmesi gerekir. Bunun için döngünün içinde değişkenler uygun şekilde güncellenir. Bu güncellemeyi unutursak sonsuz döngü içine düşeriz ve programımız biz zorla kapatmadıkça durmaz.</p>\n",
    "<p>Basit bir örnekle başlayalım: 10'a kadar olan sayıları sırayla ekrana yazan bir program yazalım.</p>\n"
   ]
  },
  {
   "cell_type": "code",
   "execution_count": null,
   "metadata": {},
   "outputs": [],
   "source": [
    "\n",
    "a=1\n",
    "b=10\n",
    "while a<b:\n",
    "    print(a, end=\" \")\n",
    "    a += 1  # a = a + 1 ile aynı\n",
    "\n"
   ]
  },
  {
   "cell_type": "markdown",
   "metadata": {},
   "source": [
    "\n",
    "<p>Gördüğünüz gibi <code>while</code> komutunun yapısı <code>if</code>'e benziyor: İkisi de bir şarttan sonra iki nokta üstüste (<code>:</code>) ile bir blok başlatıyor, ve blok içeri doğru kaydırılıyor.</p>\n",
    "<p>Yukarıdaki örnekte önce <code>a</code> ve <code>b</code> değişkenlerine ilk değerler veriyoruz. Ardından <code>while</code> blokunun başında <code>a&lt;b</code> şartının doğru olup olmadığı yoklanıyor. Doğruysa blokun içindeki kod çalıştırılır. <code>if</code> yapısındaki gibi, döngü bloku kaydırma ile belli edilir. Blok bitince başa dönülür, şartın hâlâ doğru olup olmadığı tekrar yoklanır, doğruysa blok tekrar çalıştırılır. Döngü bloku üzerinden her bir geçişe bir <em>iterasyon</em> deriz.</p>\n",
    "<p><code>print</code> fonksiyonuna verdiğimiz <code>end=\" \"</code> parametresi, <code>a</code> değeri ekrana basıldıktan sonra satırbaşı yapmak yerine aynı satırda bir boşluk bırakmasını sağlar. Böylece sayıları tek bir satıra yazabiliriz.</p>\n",
    "<p>Döngü blokundaki <code>a += 1</code> ifadesi, <code>a</code> değişkeninin değerini bir artırmak için kullanılan kısa bir yazım tarzı. Diğer aritmetik işlemlerde de aynı kestirme yol geçerli (meselâ <code>a -= 2</code> iki azaltır, <code>a *= 3</code> üçle çarpar). Bu işlem döngü içinde tekrarlanınca sonunda <code>a</code> değişkeni 10 değerine ulaşıyor, <code>a&lt;b</code> şartı yanlış hale geliyor, ve döngü bir daha çalıştırılmıyor. Döngü bittiğinde <code>a</code>'nın 10 değerine sahip olduğuna, ama ekranda 10 sayısının yazılmadığına dikkat edin.</p>\n",
    "<p>Döngü içinde <code>a += 1</code> ifadesi olmasaydı, <code>a</code> hep aynı değerde kalacağı için döngü sonsuza kadar devam ederdi. Yeni başlayanlar bu hataya çok düşer (ben de sık sık yaparım). Sonsuz döngüyü kırmak için programı zorla durdurmanız gerekir. Jupyter defterinde <em>Interrupt Kernel</em> düğmesine tıklayarak, Linux komut satırında Ctrl-C basarak, Windows komut satırında Ctrl-Z basarak programı durmaya zorlayabilirsiniz.</p>\n",
    "<hr/>\n",
    "<p><strong>Alıştırma.</strong> Yukarıdaki programı değiştirerek (a) 4'den 29'a beşer beşer, (b) 10'dan 1'e geriye doğru birer birer saydırın.</p>\n",
    "<hr/>\n",
    "<p>Başka bir örnek olarak, 1'den 10'a kadar sayıların toplamını hesaplayan bir program yazalım.</p>\n"
   ]
  },
  {
   "cell_type": "code",
   "execution_count": null,
   "metadata": {},
   "outputs": [],
   "source": [
    "\n",
    "a=1\n",
    "b=10\n",
    "toplam=0\n",
    "while a<=b:\n",
    "    toplam += a\n",
    "    a += 1\n",
    "print(toplam)\n",
    "\n"
   ]
  },
  {
   "cell_type": "markdown",
   "metadata": {},
   "source": [
    "\n",
    "<p>Bu programda <code>toplam</code> isimli bir değişken yaratıyoruz ve döngünün içinde her <code>a</code> değerini <code>toplam</code>'a ekliyoruz. Bu döngünün çalışmasını aşağıdaki tabloda adım adım görebiliriz.</p>\n",
    "<table>\n",
    "<thead><tr>\n",
    "<th>iterasyon</th>\n",
    "<th>a</th>\n",
    "<th>a &lt;= b</th>\n",
    "<th>toplam</th>\n",
    "</tr>\n",
    "</thead>\n",
    "<tbody>\n",
    "<tr>\n",
    "<td>1</td>\n",
    "<td>1</td>\n",
    "<td>Doğru</td>\n",
    "<td>1</td>\n",
    "</tr>\n",
    "<tr>\n",
    "<td>2</td>\n",
    "<td>2</td>\n",
    "<td>Doğru</td>\n",
    "<td>3</td>\n",
    "</tr>\n",
    "<tr>\n",
    "<td>3</td>\n",
    "<td>3</td>\n",
    "<td>Doğru</td>\n",
    "<td>6</td>\n",
    "</tr>\n",
    "<tr>\n",
    "<td>4</td>\n",
    "<td>4</td>\n",
    "<td>Doğru</td>\n",
    "<td>10</td>\n",
    "</tr>\n",
    "<tr>\n",
    "<td>...</td>\n",
    "<td>...</td>\n",
    "<td>...</td>\n",
    "<td>...</td>\n",
    "</tr>\n",
    "<tr>\n",
    "<td>10</td>\n",
    "<td>10</td>\n",
    "<td>Doğru</td>\n",
    "<td>55</td>\n",
    "</tr>\n",
    "<tr>\n",
    "<td>11</td>\n",
    "<td>11</td>\n",
    "<td>Yanlış</td>\n",
    "<td>55</td>\n",
    "</tr>\n",
    "</tbody>\n",
    "</table>\n",
    "<p>Bu programda <code>print()</code> komutunun döngünün dışında olduğuna dikkat edin (kaydırma seviyesi <code>while</code> kelimesiyle aynı hizada). Bu komut döngü blokunun içinde olsaydı ne olurdu? Deneyin.</p>\n",
    "<p>Döngü tekrarlama şartında küçükeşit kullandık (<code>a&lt;=b</code>). Önceki örnek programda olduğu gibi küçük (<code>a&lt;b</code>) kullansaydık ne olurdu? Deneyin.</p>\n",
    "<hr/>\n",
    "<p><strong>Alıştırma.</strong> Yukarıdaki programı değiştirerek şu toplamları hesaplatın.</p>\n",
    "<p></p><ol>\n",
    "<li>$1 + 3 + 5 + \\cdots + 101$</li>\n",
    "<li>$\\frac{1}{2} + \\frac{1}{4}+ \\cdots + \\frac{1}{2^a} + \\cdots + \\frac{1}{1024}$</li>\n",
    "<li>$1 + 4 + 9 + \\cdots + a^2 + \\cdots + 100$</li>\n",
    "</ol>\n",
    "<hr/>\n",
    "<h2 id=\"İç-içe-döngüler\">İç içe döngüler<a class=\"anchor-link\" href=\"#İç-içe-döngüler\">¶</a></h2><p>Bir döngü blokunun içine istediğiniz her türlü kodu koyabilirsiniz. Başka bir döngü koymak da buna dahil. Sözgelişi, iki ayrı parametre üzerinden döngü yapmak istediğinizde bir döngü içinde başka bir döngü kullanırsınız.</p>\n",
    "<p>Örnek olarak, $1^p + 2^p + \\cdots + 10^p$ toplamını, $p$'nin 1-6 arasındaki değerleri için ekrana yazacak bir program yazalım. Yukarıda böyle bir seri toplamın bir döngü içinde nasıl hesaplandığını gördük. Her bir $p$ için ayrıca bir hesap yapacağız. Demek ki toplamı hesaplama döngüsünü, $p$'nin 1 ile 6 arasında değiştiği bir döngünün içine koymalıyız.</p>\n",
    "<p>İçiçe döngüler yazmanın en kolay yolu, dış döngüdeki parametreleri sabit tutup en içteki döngüyle başlamaktır. İlk aşamada $1^p + 2^p + \\cdots + 10^p$ toplamını sadece $p=1$ için hesaplayalım.</p>\n"
   ]
  },
  {
   "cell_type": "code",
   "execution_count": null,
   "metadata": {},
   "outputs": [],
   "source": [
    "\n",
    "p=1\n",
    "a=1\n",
    "b=10\n",
    "toplam=0\n",
    "while a<=b:\n",
    "    toplam += a**p\n",
    "    a += 1\n",
    "print(\"p =\",p,\", 1^p + ... + 10^p =\", toplam)\n",
    "\n"
   ]
  },
  {
   "cell_type": "markdown",
   "metadata": {},
   "source": [
    "\n",
    "<p>Şimdi yapmamız gereken bunu $p=2,3,4,5,6$ için tekrarlamak. Tembel işi yapıp, aynı kodu altı kere yapıştırıp $p$ değerlerini değiştirebiliriz.</p>\n"
   ]
  },
  {
   "cell_type": "code",
   "execution_count": null,
   "metadata": {},
   "outputs": [],
   "source": [
    "\n",
    "p=1\n",
    "a=1\n",
    "b=10\n",
    "toplam=0\n",
    "while a<=b:\n",
    "    toplam += a**p\n",
    "    a += 1\n",
    "print(\"p =\",p,\", 1^p + ... + 10^p =\", toplam)\n",
    "\n",
    "p=2\n",
    "a=1\n",
    "b=10\n",
    "toplam=0\n",
    "while a<=b:\n",
    "    toplam += a**p\n",
    "    a += 1\n",
    "print(\"p =\",p,\", 1^p + ... + 10^p =\", toplam)\n",
    "\n",
    "p=3\n",
    "a=1\n",
    "b=10\n",
    "toplam=0\n",
    "while a<=b:\n",
    "    toplam += a**p\n",
    "    a += 1\n",
    "print(\"p =\",p,\", 1^p + ... + 10^p =\", toplam)\n",
    "\n",
    "p=4\n",
    "a=1\n",
    "b=10\n",
    "toplam=0\n",
    "while a<=b:\n",
    "    toplam += a**p\n",
    "    a += 1\n",
    "print(\"p =\",p,\", 1^p + ... + 10^p =\", toplam)\n",
    "\n",
    "p=5\n",
    "a=1\n",
    "b=10\n",
    "toplam=0\n",
    "while a<=b:\n",
    "    toplam += a**p\n",
    "    a += 1\n",
    "print(\"p =\",p,\", 1^p + ... + 10^p =\", toplam)\n",
    "\n",
    "p=6\n",
    "a=1\n",
    "b=10\n",
    "toplam=0\n",
    "while a<=b:\n",
    "    toplam += a**p\n",
    "    a += 1\n",
    "print(\"p =\",p,\", 1^p + ... + 10^p =\", toplam)\n",
    "\n"
   ]
  },
  {
   "cell_type": "markdown",
   "metadata": {},
   "source": [
    "\n",
    "<p>İstediğimizi yapıyor, ama güzel bir çözüm yöntemi değil. Birincisi, programımız gereksiz derecede uzuyor ve okuması zorlaşıyor. İkincisi, $p$ için farklı değerlerle hesabı tekrarlamak istediğimizde hepsini elden geçirmemiz, silmemiz veya eklememiz gerekiyor. Aynı hesabı $p$'yi -100 ile 100 arasında tekrarladığınızı düşünün!</p>\n",
    "<p>Muhtemelen bu aşamada en güzel çözümün kodun etrafına bir dış döngü sarmak olduğunu gördünüz bile.</p>\n"
   ]
  },
  {
   "cell_type": "code",
   "execution_count": null,
   "metadata": {},
   "outputs": [],
   "source": [
    "\n",
    "p=1\n",
    "while p<=6:\n",
    "    a=1\n",
    "    b=10\n",
    "    toplam=0\n",
    "    while a<=b:\n",
    "        toplam += a**p\n",
    "        a += 1\n",
    "    print(\"p =\",p,\", 1^p + ... + 10^p =\", toplam)\n",
    "    p += 1\n",
    "\n"
   ]
  },
  {
   "cell_type": "markdown",
   "metadata": {},
   "source": [
    "\n",
    "<h1 id=\"else\">else<a class=\"anchor-link\" href=\"#else\">¶</a></h1><p>Python dilinde <code>while</code> ve <code>for</code> döngülerinde bir <code>else</code> bloku bulunabilmesi mümkündür. Bu özellik, C'de ve birçok başka dilde bulunmaz.</p>\n",
    "<p>Bir while döngüsünün Python sözdizimindeki genel yapısı şöyledir:</p>\n",
    "<pre><code>while &lt;şart&gt;:\n",
    "    &lt;komutlar 1&gt;\n",
    "else:\n",
    "    &lt;komutlar 2&gt;\n",
    "</code></pre>\n",
    "<p><code>else</code> bloku altındaki &lt;<code>komutlar 2&gt;</code> kısmı sadece döngü şartı yanlışsa çalıştırılır. Kendi başına bu o kadar da gerekli değil; <code>&lt;komutlar 2&gt;</code> kısmını <code>else</code> kelimesi olmadan döngü blokunun dışına koysanız da aynı etkiyi yapar. <code>else</code>'i işe yarar kılan şey şu: <code>&lt;komutlar 1&gt;</code> kısmında bir <code>break</code> komutu çalıştırılırsa, döngünün <code>else</code> kısmını da atlar. Yani, döngünüz <code>break</code> ile bitmediği zaman çalışamasını istediğiniz komutları <code>else</code> altına koyarsınız.</p>\n",
    "<p>Somut bir örnek olarak, bir sıralı veri yapısı içinde bir arama yaptığımızı düşünelim. Veride belli bir değere sahip bir eleman olup olmadığını bulmaya çalışıyoruz. Bunun klasik yolu \"bayrak\" (flag) adı verilen Boolean (doğru/yanlış) değişkenler kullanmaktır. Başlangıçta bayrak değeri \"yanlış\"tır. Veriyi eleman eleman tarar, aradığımız değeri bulursak bayrağı \"doğru\" değere getirir ve döngüden çıkarız. Döngü bittiğinde bayrağın durumu bize sonucu verir.</p>\n"
   ]
  },
  {
   "cell_type": "code",
   "execution_count": null,
   "metadata": {},
   "outputs": [],
   "source": [
    "\n",
    "data = [1,2,4,-1,3,4,-5,1]\n",
    "i = 0\n",
    "aranan = 3\n",
    "\n",
    "bulduk = False\n",
    "while i<len(data) and not bulduk:\n",
    "    if data[i] == aranan:\n",
    "        bulduk = True\n",
    "    else:\n",
    "        i += 1\n",
    "\n",
    "if bulduk:\n",
    "    print(\"Aranan\", aranan, \"değeri\", i, \"pozisyonunda.\")\n",
    "else:\n",
    "    print(\"Bulamadık\")\n",
    "\n"
   ]
  },
  {
   "cell_type": "markdown",
   "metadata": {},
   "source": [
    "\n",
    "<p><code>while</code> ile birlikte <code>else</code> kullanmak bu programı biraz sadeleştirir.</p>\n"
   ]
  },
  {
   "cell_type": "code",
   "execution_count": null,
   "metadata": {},
   "outputs": [],
   "source": [
    "\n",
    "data = [1,2,4,-1,3,4,-5,1]\n",
    "i = 0\n",
    "aranan = int(input(\"Aranan değer: \"))\n",
    "\n",
    "while i<len(data):\n",
    "    if data[i] == aranan:\n",
    "        print (\"Aranan\", aranan, \"değeri\", i, \"pozisyonunda.\")\n",
    "        break;\n",
    "    i += 1\n",
    "else:\n",
    "    print(\"Bulamadık\")\n",
    "\n"
   ]
  },
  {
   "cell_type": "markdown",
   "metadata": {},
   "source": [
    "\n",
    "<p>İkinci programdaki <code>else</code>'in <code>if</code>'e değil <code>while</code>'a ait olduğuna dikkat edin. Burada bayrak değişkeni <code>bulduk</code>'a ihtiyaç kalmıyor.</p>\n",
    "<p>Başka bir örnek olarak, verilen bir sayının asal olup olmadığını belirleyelim. Bunun için, verilen sayının daha küçük sayılara bölünebilir olup olmadığına bakacağız. Verilen sayıyı bölen daha küçük bir sayı bulursak, gerisine bakmadan sayının asal olduğunu söyleyebiliriz. Sayı asalsa, bütün muhtemel bölenlere bakmamız gerekecek.</p>\n",
    "<p>Bir $x$ sayısının asal olup olmadığını anlamak için $x$'den küçük bütün sayılara bakmaya lüzum yok; 2 ile $\\sqrt{x}$ arasındaki sayıları test etmek yeterli.</p>\n",
    "<p>Döngü <code>else</code>'ini kullanmadan şöyle yapabiliriz:</p>\n"
   ]
  },
  {
   "cell_type": "code",
   "execution_count": null,
   "metadata": {},
   "outputs": [],
   "source": [
    "\n",
    "x = int(input(\"Bir pozitif tamsayı girin: \"))\n",
    "asal = True\n",
    "i = 2\n",
    "while i*i <= x and asal:\n",
    "    if x % i==0:\n",
    "        asal = False\n",
    "    else:\n",
    "        i += 1\n",
    "\n",
    "if asal:\n",
    "    print(\"Asal.\")\n",
    "else:\n",
    "    print(\"Asal değil,\", i, \"böler.\")\n",
    "\n"
   ]
  },
  {
   "cell_type": "markdown",
   "metadata": {},
   "source": [
    "\n",
    "<p>(Karekök alma işlemi CPU'yu fazla kullandığı için, döngü şartını $i \\leq \\sqrt{x}$ yerine $i^2 \\leq x$ olarak yazdım.)</p>\n",
    "<p>Aynı programı döngü <code>else</code>'ini kullanarak şöyle yazabiliriz:</p>\n"
   ]
  },
  {
   "cell_type": "code",
   "execution_count": null,
   "metadata": {},
   "outputs": [],
   "source": [
    "\n",
    "x = int(input(\"Bir pozitif tamsayı girin: \"))\n",
    "i = 2\n",
    "while i*i < x:\n",
    "    if x % i == 0:\n",
    "        print(\"Asal değil,\", i, \"böler.\")\n",
    "        break\n",
    "    i += 1\n",
    "else:\n",
    "    print(\"Asal.\")\n",
    "\n"
   ]
  },
  {
   "cell_type": "markdown",
   "metadata": {},
   "source": [
    "\n",
    "<h1 id=\"for:-Sıralı-nesneler-üzerinde-döngü\">for: Sıralı nesneler üzerinde döngü<a class=\"anchor-link\" href=\"#for:-Sıralı-nesneler-üzerinde-döngü\">¶</a></h1><p>C, Java ve benzeri dillere aşinaysanız, <code>for</code> ve <code>while</code> döngülerinin tamamen denk olduğunu bilirsiniz. Python'da <code>for</code> başka bir görev üstlenmiştir: Liste, dize, çokuz gibi sıralı bir nesnedeki elemanları sırayla tek tek alır ve döngü blokunda işler.</p>\n"
   ]
  },
  {
   "cell_type": "code",
   "execution_count": null,
   "metadata": {},
   "outputs": [],
   "source": [
    "\n",
    "for s in [\"fındık\", \"fıstık\", \"ceviz\"]:\n",
    "    print(s)\n",
    "\n"
   ]
  },
  {
   "cell_type": "markdown",
   "metadata": {},
   "source": [
    "\n",
    "<p>Aynısını bir <code>while</code> döngüsünde şöyle yaparız:</p>\n"
   ]
  },
  {
   "cell_type": "code",
   "execution_count": null,
   "metadata": {},
   "outputs": [],
   "source": [
    "\n",
    "L = [\"fındık\",\"fıstık\",\"ceviz\"]\n",
    "i=0\n",
    "while i < len(L):\n",
    "    print(L[i])\n",
    "    i += 1\n",
    "\n"
   ]
  },
  {
   "cell_type": "markdown",
   "metadata": {},
   "source": [
    "\n",
    "<p>Burada <code>len(L)</code> bize <code>L</code> listesinin eleman sayısı olan 3'ü verir. <code>while</code> kullandığımızda listenin indeksini takip eden bir <code>i</code> değişkeni kullanmamız gerekiyor. <code>for</code> ile buna gerek yok, ve döngü bloku çok daha sade.</p>\n"
   ]
  },
  {
   "cell_type": "markdown",
   "metadata": {},
   "source": [
    "\n",
    "<p><code>range(n)</code> fonksiyon çağrısı sıfırdan başlayarak <code>n-1</code>'e kadar tamsayılar verir.</p>\n"
   ]
  },
  {
   "cell_type": "code",
   "execution_count": null,
   "metadata": {},
   "outputs": [],
   "source": [
    "\n",
    "list(range(11))\n",
    "\n"
   ]
  },
  {
   "cell_type": "markdown",
   "metadata": {},
   "source": [
    "\n",
    "<p>Bunu kullanarak 0-10 arasındaki sayıları ve karelerini ekrana yazalım.</p>\n"
   ]
  },
  {
   "cell_type": "code",
   "execution_count": null,
   "metadata": {},
   "outputs": [],
   "source": [
    "\n",
    "for x in range(11):\n",
    "    print(x, x**2)\n",
    "\n"
   ]
  },
  {
   "cell_type": "markdown",
   "metadata": {},
   "source": [
    "\n",
    "<p><code>for</code> döngüsü, bir dizeyi de bir liste gibi eleman eleman alabilir. Dizenin elemanları onu oluşturan karakterlerdir.</p>\n"
   ]
  },
  {
   "cell_type": "code",
   "execution_count": null,
   "metadata": {},
   "outputs": [],
   "source": [
    "\n",
    "for c in \"Merhaba\":\n",
    "    print(c,end=\",\")\n",
    "\n"
   ]
  },
  {
   "cell_type": "markdown",
   "metadata": {},
   "source": [
    "\n",
    "<p>Bir çokuzdaki elemanların toplamını bulalım.</p>\n"
   ]
  },
  {
   "cell_type": "code",
   "execution_count": null,
   "metadata": {},
   "outputs": [],
   "source": [
    "\n",
    "toplam=0\n",
    "for x in (4, 5, 2, -4, 1, 10):\n",
    "    toplam += x\n",
    "print(toplam)\n",
    "\n"
   ]
  },
  {
   "cell_type": "markdown",
   "metadata": {},
   "source": [
    "\n",
    "<p>Elimizde sayı çiftlerinden oluşan bir liste olsun ve bu çiftlerin toplamlarının listesini elde etmek istiyoruz diyelim.</p>\n"
   ]
  },
  {
   "cell_type": "code",
   "execution_count": null,
   "metadata": {},
   "outputs": [],
   "source": [
    "\n",
    "L = [(1,2), (2,4), (3,8)]\n",
    "for e in L:  # her e'nin iki elemanı vardır\n",
    "    print (e[0], e[1], e[0]+e[1])\n",
    "\n"
   ]
  },
  {
   "cell_type": "markdown",
   "metadata": {},
   "source": [
    "\n",
    "<p>Aynısını çokuz atamalarından faydalanarak yazmak kodu sadeleştirir.</p>\n"
   ]
  },
  {
   "cell_type": "code",
   "execution_count": null,
   "metadata": {},
   "outputs": [],
   "source": [
    "\n",
    "L = [(1,2), (2,4), (3,8)]\n",
    "for a,b in L:\n",
    "    print (a,b,a+b)\n",
    "\n"
   ]
  },
  {
   "cell_type": "markdown",
   "metadata": {},
   "source": [
    "\n",
    "<hr/>\n",
    "<p><strong>Alıştırma.</strong> Yukarıdaki örnekleri <code>while</code> döngüsü kullanarak yazın.</p>\n",
    "<hr/>\n",
    "<p><code>break</code>, <code>continue</code>, <code>else</code> komutları <code>for</code> döngülerinde de, yukarıda <code>while</code> için bahsedilen şekilde çalışırlar. Bu komutların <code>for</code> ile kullanılışına ayrıca örnek vermeyeceğiz.</p>\n",
    "<p>Sonraki iki bölümde, somut hesaplama problemlerinde döngüleri nasıl kullanacağımızı göreceğiz.</p>\n"
   ]
  },
  {
   "cell_type": "markdown",
   "metadata": {},
   "source": [
    "\n",
    "<h1 id=\"break:-Döngüyü-bitirmek\">break: Döngüyü bitirmek<a class=\"anchor-link\" href=\"#break:-Döngüyü-bitirmek\">¶</a></h1><p>Bir döngünün, döngü şartı yanlış hale geldiğinde sona erdiğini gördük. Ancak bazı durumlarda döngü bloku içinde bir çıkış sağlamak daha kolay olabilir, ve bazen kodun daha okunaklı olmasını sağlar.</p>\n",
    "<p>Bir döngü bloku içinde verilen bir <code>break</code> komutu, döngünün hemen o anda bitirilmesine yol açar. Program akışı döngü blokunun dışına atlar, ve ardından gelen komutlarla devam eder. Örnek olarak, kullanıcının verdiği sayıları toplayan bir program yazalım. Kullanıcı -99 girene kadar sayıları toplama eklemeye devam etsin.</p>\n"
   ]
  },
  {
   "cell_type": "code",
   "execution_count": null,
   "metadata": {},
   "outputs": [],
   "source": [
    "\n",
    "toplam = 0\n",
    "while True:   # Şart hep doğru - sonsuz döngü\n",
    "    x = int(input(\"Bir sayı girin (bitirmek için -99): \"))\n",
    "    if x == -99:\n",
    "        break\n",
    "    toplam += x\n",
    "print(\"Toplam:\", toplam)\n",
    "\n"
   ]
  },
  {
   "cell_type": "markdown",
   "metadata": {},
   "source": [
    "\n",
    "<p><code>break</code> sadece döngüler içinde ve bir <code>if</code> şartı altında bir mânâ ifade eder. Eğer <code>if</code> kullanmazsanız Python yorumlayıcısı döngünün ilk iterasyonunda <code>break</code>'e rastlayarak döngüyü tamamlar, blokun geri kalanını hiç işlemez.</p>\n",
    "<p>Yukarıdaki programda döngünün tekrarlama şartı <code>True</code> olduğu için, bu bir sonsuz döngü. Döngünün bitmesi için kullanıcının -99 yazması gerek. Hiç <code>break</code> kullanmamak teorik olarak mümkündür, ama bazı karmaşık durumlarda <code>break</code> sayesinde programınız sadeleşir, okunması kolaylaşır.</p>\n",
    "<hr/>\n",
    "<p><strong>Alıştırma.</strong> Yukarıdaki programı <code>break</code> kullanmadan yazın.</p>\n",
    "<hr/>\n",
    "<h1 id=\"continue:-Döngünün-kalanını-atlamak-\">continue: Döngünün kalanını atlamak <a class=\"anchor-link\" href=\"#continue:-Döngünün-kalanını-atlamak-\">¶</a></h1><p><code>continue</code> komutu da, aynı <code>break</code> gibi, sadece bir döngü içinde ve bir <code>if</code> şartı altında mânâ ifade eder. <code>continue</code> döngü blokunun işlemesini yarıda keser ve başa döner. <code>break</code>'den farkı, programın döngünün dışına çıkmaması, ama döngünün başına dönmesi ve tekrar başlatmasıdır. Bu arada döngü şartının doğru olup olmadığı da kontrol edilir.</p>\n",
    "<p>Örnek olarak, yukarıdaki programı, sadece 0 ve 100 arası değerleri kabul edecek şekilde şöyle yazabiliriz:</p>\n"
   ]
  },
  {
   "cell_type": "code",
   "execution_count": 1,
   "metadata": {},
   "outputs": [
    {
     "name": "stdin",
     "output_type": "stream",
     "text": [
      "Bir sayı girin (bitirmek için -99):  6\n",
      "Bir sayı girin (bitirmek için -99):  -99\n"
     ]
    },
    {
     "name": "stdout",
     "output_type": "stream",
     "text": [
      "Toplam: 6\n"
     ]
    }
   ],
   "source": [
    "\n",
    "toplam = 0\n",
    "while True:\n",
    "    x = int(input(\"Bir sayı girin (bitirmek için -99): \"))\n",
    "    if x == -99:\n",
    "        break\n",
    "    if x < 0 or x > 100:\n",
    "        print(\"0-100 arası olmalı.\")\n",
    "        continue\n",
    "    toplam += x\n",
    "print(\"Toplam:\", toplam)\n",
    "\n"
   ]
  },
  {
   "cell_type": "markdown",
   "metadata": {},
   "source": [
    "\n",
    "<p>Programda 0-100 aralığı dışındaki girdiler <code>continue</code>'ya takılıyor, o yüzden toplama eklenmiyorlar. Programı -99'la bitirmek hâlâ mümkün çünkü bunun yoklaması daha önce yapılıyor. İki <code>if</code> blokunun sırasını değiştirirseniz bu özellik bozulur, program sonsuz döngüde kalır.</p>\n"
   ]
  }
 ],
 "metadata": {
  "kernelspec": {
   "display_name": "Python 3",
   "language": "python",
   "name": "python3"
  },
  "language_info": {
   "codemirror_mode": {
    "name": "ipython",
    "version": 3
   },
   "file_extension": ".py",
   "mimetype": "text/x-python",
   "name": "python",
   "nbconvert_exporter": "python",
   "pygments_lexer": "ipython3",
   "version": "3.8.3"
  }
 },
 "nbformat": 4,
 "nbformat_minor": 4
}
